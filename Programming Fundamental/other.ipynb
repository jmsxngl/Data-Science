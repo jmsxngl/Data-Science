# this is comment
print('Hello there')

a = 'Halo nama saya Randy'
b = [i.capitalize() for i in a.split()]
b

a = list(range(10,-10,3))
print(sum(a))
