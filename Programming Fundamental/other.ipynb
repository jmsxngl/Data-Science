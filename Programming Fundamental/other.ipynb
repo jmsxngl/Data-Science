{
 "cells": [
  {
   "cell_type": "code",
   "execution_count": 1,
   "id": "02ac0953",
   "metadata": {},
   "outputs": [
    {
     "name": "stdout",
     "output_type": "stream",
     "text": [
      "Hello there\n"
     ]
    }
   ],
   "source": [
    "# this is comment\n",
    "print('Hello there')"
   ]
  },
  {
   "cell_type": "code",
   "execution_count": 2,
   "id": "a324ee8d-55da-4f01-9743-7b4ca175e488",
   "metadata": {},
   "outputs": [
    {
     "data": {
      "text/plain": [
       "['Halo', 'Nama', 'Saya', 'Randy']"
      ]
     },
     "execution_count": 2,
     "metadata": {},
     "output_type": "execute_result"
    }
   ],
   "source": [
    "a = 'Halo nama saya Randy'\n",
    "b = [i.capitalize() for i in a.split()]\n",
    "b"
   ]
  },
  {
   "cell_type": "code",
   "execution_count": 3,
   "id": "74736bfa",
   "metadata": {},
   "outputs": [
    {
     "name": "stdout",
     "output_type": "stream",
     "text": [
      "0\n"
     ]
    }
   ],
   "source": [
    "a = list(range(10,-10,3))\n",
    "print(sum(a))"
   ]
  }
 ],
 "metadata": {
  "kernelspec": {
   "display_name": "Python 3.10.4 64-bit",
   "language": "python",
   "name": "python3"
  },
  "language_info": {
   "codemirror_mode": {
    "name": "ipython",
    "version": 3
   },
   "file_extension": ".py",
   "mimetype": "text/x-python",
   "name": "python",
   "nbconvert_exporter": "python",
   "pygments_lexer": "ipython3",
   "version": "3.10.4"
  },
  "vscode": {
   "interpreter": {
    "hash": "f60f72b57598d59359379cb9778edb3cf71d7ec91785047b299b04c43f301853"
   }
  }
 },
 "nbformat": 4,
 "nbformat_minor": 5
}
